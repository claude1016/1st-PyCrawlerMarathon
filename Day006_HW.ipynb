{
 "cells": [
  {
   "cell_type": "markdown",
   "metadata": {},
   "source": [
    "# API 資料串接 - 以 知乎 API 實作範例\n",
    "\n",
    "\n",
    "\n",
    "* 了解知乎 API 使用方式與回傳內容\n",
    "* 撰寫程式存取 API 且添加標頭\n",
    "\n",
    "\n"
   ]
  },
  {
   "cell_type": "markdown",
   "metadata": {},
   "source": [
    "## 作業目標\n",
    "\n",
    "* 根據範例提供的 API ，完成以下問題：\n",
    "\n",
    "    1. 取出知乎問題發問時間\n",
    "    2. 取出第一筆與最後一筆回答的時間\n"
   ]
  },
  {
   "cell_type": "markdown",
   "metadata": {},
   "source": [
    "### 1. 取出知乎問題發問時間"
   ]
  },
  {
   "cell_type": "code",
   "execution_count": 37,
   "metadata": {},
   "outputs": [
    {
     "data": {
      "text/plain": [
       "1486390229"
      ]
     },
     "execution_count": 37,
     "metadata": {},
     "output_type": "execute_result"
    }
   ],
   "source": [
    "# 1. 取出知乎問題發問時間\n",
    "\n",
    "'''\n",
    "Your Code\n",
    "'''\n",
    "import requests as re\n",
    "headers={'authority':'www.zhihu.com,method: GET,path: /api/v4/questions/55493026/answers','scheme':'https',\n",
    "        'accept':'text/html,application/xhtml+xml,application/xml;q=0.9,image/webp,image/apng,*/*;q=0.8,application/signed-exchange;v=b3;q=0.9',\n",
    "        'accept-encoding':'gzip, deflate,br',\n",
    "        'accept-language':'zh-TW,zh;q=0.9,en-US;q=0.8,en;q=0.7',\n",
    "        'cache-control':'max-age=0',\n",
    "        'cookie':'_zap=7b4cacc0-2963-4964-8c96-1a72a96badac; d_c0=\"ABAjKCpi4g6PTlALKkCKbu7wSNnqluHtFVw=|1548490505\"; q_c1=a79eb9187ed04553a48d8cc33720167e|1553781508000|1553781508000; Hm_lvt_98beee57fd2ef70ccdd5ca52b9740c49=1581846383; _xsrf=iqO0ysorHhiEXnGKWtiSwxV8WSjdyY6p; KLBRSID=53650870f91603bc3193342a80cf198c|1582005650|1582005602',\n",
    "        'sec-fetch-dest':'document',\n",
    "        'sec-fetch-mode':'navigate',\n",
    "        'sec-fetch-site':'none',\n",
    "        'sec-fetch-user':'?1',\n",
    "        'upgrade-insecure-requests':'1',\n",
    "        'user-agent':'Mozilla/5.0 (Windows NT 10.0; Win64; x64) AppleWebKit/537.36 (KHTML, like Gecko) Chrome/80.0.3987.106 Safari/537.36'}\n",
    "\n",
    "data=re.get('https://www.zhihu.com/api/v4/questions/55493026/answers',headers=headers)\n",
    "data.text\n",
    "import json\n",
    "data_j=json.loads(data.text)\n",
    "data_j['data'][0]['question']['created']\n",
    "\n",
    "# for  a  in data_j['data']:\n",
    "#      print('發文時間',a['created_time'])"
   ]
  },
  {
   "cell_type": "markdown",
   "metadata": {},
   "source": [
    "### 2. 取出第一筆與最後一筆回答的時間"
   ]
  },
  {
   "cell_type": "code",
   "execution_count": 44,
   "metadata": {},
   "outputs": [
    {
     "name": "stdout",
     "output_type": "stream",
     "text": [
      "frist 1557824412 last 1551238885\n"
     ]
    }
   ],
   "source": [
    "# 2. 取出第一筆與最後一筆回答的時間\n",
    "\n",
    "'''\n",
    "Your Code\n",
    "'''\n",
    "frist=data_j['data'][0]['created_time']\n",
    "n=len(data_j['data'])\n",
    "last=data_j['data'][n-1]['created_time']\n",
    "print('frist',frist,'last',last)"
   ]
  },
  {
   "cell_type": "code",
   "execution_count": 46,
   "metadata": {},
   "outputs": [
    {
     "data": {
      "text/plain": [
       "'C:/Users/Claude/Desktop/NKUST/1st-PyCrawlerMarathon/homework/1st-PyCrawlerMarathon\\\\Day006_HW.ipynb'"
      ]
     },
     "execution_count": 46,
     "metadata": {},
     "output_type": "execute_result"
    }
   ],
   "source": [
    "import shutil\n",
    "shutil.move('Day006_HW.ipynb','C:/Users/Claude/Desktop/NKUST/1st-PyCrawlerMarathon/homework/1st-PyCrawlerMarathon')"
   ]
  },
  {
   "cell_type": "code",
   "execution_count": null,
   "metadata": {},
   "outputs": [],
   "source": []
  }
 ],
 "metadata": {
  "kernelspec": {
   "display_name": "Python 3",
   "language": "python",
   "name": "python3"
  },
  "language_info": {
   "codemirror_mode": {
    "name": "ipython",
    "version": 3
   },
   "file_extension": ".py",
   "mimetype": "text/x-python",
   "name": "python",
   "nbconvert_exporter": "python",
   "pygments_lexer": "ipython3",
   "version": "3.7.1"
  }
 },
 "nbformat": 4,
 "nbformat_minor": 2
}
